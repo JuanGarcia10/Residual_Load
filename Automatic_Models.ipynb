{
 "cells": [
  {
   "cell_type": "code",
   "execution_count": 9,
   "metadata": {},
   "outputs": [],
   "source": [
    "import pandas as pd\n",
    "from sklearn import tree\n",
    "from sklearn.model_selection import train_test_split\n",
    "from sklearn.ensemble import RandomForestRegressor\n",
    "import datetime \n",
    "import numpy as np\n",
    "import os\n",
    "import pickle \n",
    "from automatic_baseline import complete_prediction"
   ]
  },
  {
   "cell_type": "code",
   "execution_count": 10,
   "metadata": {},
   "outputs": [
    {
     "name": "stdout",
     "output_type": "stream",
     "text": [
      "mkdir: cannot create directory 'models': File exists\n"
     ]
    }
   ],
   "source": [
    "!mkdir \"models\""
   ]
  },
  {
   "cell_type": "code",
   "execution_count": 11,
   "metadata": {},
   "outputs": [
    {
     "data": {
      "text/plain": [
       "Index(['Date', 'Hydro Pumped Storage in MAW', 'Waste in MAW',\n",
       "       'Geothermal in MAW', 'System total load in MAW',\n",
       "       'Other renewable in MAW', 'Fossil Hard coal in MAW',\n",
       "       'Hydro Run-of-river and poundage in MAW', 'Fossil Oil in MAW',\n",
       "       'Fossil Gas in MAW', 'Fossil Coal-derived gas in MAW',\n",
       "       'Fossil Brown coal/Lignite in MAW', 'Other in MAW', 'Biomass in MAW',\n",
       "       'Wind Offshore in MAW', 'Wind Onshore in MAW', 'Solar in MAW',\n",
       "       'Fossil Peat in MAW', 'Marine in MAW', 'Hydro Water Reservoir in MAW',\n",
       "       'Fossil Oil shale in MAW', 'Nuclear in MAW',\n",
       "       'predicted_Wind Offshore in MAW', 'predicted_Wind Onshore in MAW',\n",
       "       'predicted_System total load in MAW', 'predicted_Solar in MAW'],\n",
       "      dtype='object')"
      ]
     },
     "execution_count": 11,
     "metadata": {},
     "output_type": "execute_result"
    }
   ],
   "source": [
    "dateparse = lambda x: datetime.datetime.strptime(x, '%Y-%m-%d %H:%M:%S')\n",
    "df = pd.read_csv(\"Complete_daily_data.csv\",parse_dates=['Date'], date_parser=dateparse)\n",
    "df.columns"
   ]
  },
  {
   "cell_type": "code",
   "execution_count": 12,
   "metadata": {},
   "outputs": [
    {
     "name": "stderr",
     "output_type": "stream",
     "text": [
      "/home/tjarke/anaconda3/envs/general/lib/python3.7/site-packages/ipykernel_launcher.py:7: FutureWarning: Series.dt.weekofyear and Series.dt.week have been deprecated.  Please use Series.dt.isocalendar().week instead.\n",
      "  import sys\n"
     ]
    }
   ],
   "source": [
    "df = df.loc[:,['Date', 'System total load in MAW',\n",
    "       'Wind Offshore in MAW', 'Wind Onshore in MAW', 'Solar in MAW',\n",
    "       'predicted_Wind Offshore in MAW', 'predicted_Wind Onshore in MAW',\n",
    "       'predicted_System total load in MAW', 'predicted_Solar in MAW']]\n",
    "df[\"Year\"] = df[\"Date\"].dt.year\n",
    "df[\"Month\"] = df[\"Date\"].dt.month\n",
    "df[\"Week\"] = df[\"Date\"].dt.week\n",
    "df[\"Weekday\"] = df[\"Date\"].dt.dayofweek\n",
    "df[\"Hour\"] = df[\"Date\"].dt.hour\n",
    "df = df.dropna()"
   ]
  },
  {
   "cell_type": "code",
   "execution_count": 13,
   "metadata": {},
   "outputs": [],
   "source": [
    "features = [\"Year\",\"Month\",\"Week\",\"Weekday\",\"Hour\",'predicted_Wind Offshore in MAW',\n",
    "       'predicted_Wind Onshore in MAW', 'predicted_System total load in MAW',\n",
    "       'predicted_Solar in MAW']"
   ]
  },
  {
   "cell_type": "code",
   "execution_count": 14,
   "metadata": {},
   "outputs": [
    {
     "name": "stdout",
     "output_type": "stream",
     "text": [
      "For System total load in MAW the MAEs are:\n",
      "Decision Tree = 2622.28, Random Forrest = 1942.47, Entso-e = 1427.89,\n",
      "For Wind Offshore in MAW the MAEs are:\n",
      "Decision Tree = 551.97, Random Forrest = 434.62, Entso-e = 426.45,\n",
      "For Wind Onshore in MAW the MAEs are:\n",
      "Decision Tree = 1421.25, Random Forrest = 1031.73, Entso-e = 949.83,\n",
      "For Solar in MAW the MAEs are:\n",
      "Decision Tree = 619.12, Random Forrest = 449.29, Entso-e = 400.8,\n"
     ]
    }
   ],
   "source": [
    "complete_prediction(df,features)"
   ]
  }
 ],
 "metadata": {
  "kernelspec": {
   "display_name": "Python 3",
   "language": "python",
   "name": "python3"
  },
  "language_info": {
   "codemirror_mode": {
    "name": "ipython",
    "version": 3
   },
   "file_extension": ".py",
   "mimetype": "text/x-python",
   "name": "python",
   "nbconvert_exporter": "python",
   "pygments_lexer": "ipython3",
   "version": "3.7.9"
  }
 },
 "nbformat": 4,
 "nbformat_minor": 4
}
