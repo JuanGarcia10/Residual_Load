{
 "cells": [
  {
   "cell_type": "code",
   "execution_count": 1,
   "metadata": {},
   "outputs": [],
   "source": [
    "import requests\n",
    "import pandas as pd\n",
    "import datetime\n",
    "from bs4 import BeautifulSoup as bs\n",
    "\n",
    "# Import dictionaries, security_token and week_ahead loading script\n",
    "\n",
    "from Name_convention_dictionaries import DocumentTypeDict, ProcessTypeDict,\\\n",
    "AreaDict, PsrTypeDict\n",
    "from security_token import security_token\n",
    "from load_data_entsoe_week import load_data_week_ahead\n",
    "\n",
    "# Reverse dictionaries for easier understanding\n",
    "\n",
    "zone_dict = {v:k for k,v in AreaDict.items()}\n",
    "document_type_dict = {v:k for k,v in DocumentTypeDict.items()}\n",
    "process_type_dict = {v:k for k,v in ProcessTypeDict.items()}\n",
    "generation_type_dict = {v:k for k,v in PsrTypeDict.items()}"
   ]
  },
  {
   "cell_type": "code",
   "execution_count": 2,
   "metadata": {},
   "outputs": [],
   "source": [
    "# support functions\n",
    "def str_to_datetime(date_str):\n",
    "    return datetime.datetime.strptime(date_str, '%Y%m%d%H%M')\n",
    "\n",
    "def datetime_to_str(date):\n",
    "    return datetime.datetime.strftime(date, \"%Y%m%d%H%M\")"
   ]
  },
  {
   "cell_type": "code",
   "execution_count": 3,
   "metadata": {},
   "outputs": [
    {
     "name": "stdout",
     "output_type": "stream",
     "text": [
      "You downloaded data for Zone \"10Y1001A1001A83F\" which is \"Germany\"\n",
      "--------------------------------------------------------------------------------------------------\n",
      "The downloaded time period is from 2019-10-20 22:00:00 until 2020-10-25 23:00:00 \n",
      "--------------------------------------------------------------------------------------------------\n",
      "The loaded document type is \"A65\" which corresponds to: \"System total load\"\n",
      "The loaded process type is \"A31\" which corresponds to: \"Week ahead\" , other examples: day Ahead, week ahead\n",
      "######################################################\n",
      "Sucessfully saved to:\n",
      "Week_ahead_Germany_2019-10-20_2200to2020-10-25_2300.csv\n",
      "######################################################\n",
      "\n",
      "\n",
      "\n",
      "None\n"
     ]
    },
    {
     "ename": "HTTPError",
     "evalue": "500 Server Error: Internal Server Error for url: https://transparency.entsoe.eu/api?securityToken=5e892e19-3f90-40f3-8ad6-4c87a3f34fa5&documentType=A65&processType=A31&outBiddingZone_Domain=10Y1001A1001A83F&periodStart=201810262300&periodEnd=201910262300",
     "output_type": "error",
     "traceback": [
      "\u001b[0;31m---------------------------------------------------------------------------\u001b[0m",
      "\u001b[0;31mHTTPError\u001b[0m                                 Traceback (most recent call last)",
      "\u001b[0;32m<ipython-input-3-871efd2f72e5>\u001b[0m in \u001b[0;36m<module>\u001b[0;34m\u001b[0m\n\u001b[1;32m     31\u001b[0m     \u001b[0;31m# load and save data\u001b[0m\u001b[0;34m\u001b[0m\u001b[0;34m\u001b[0m\u001b[0;34m\u001b[0m\u001b[0m\n\u001b[1;32m     32\u001b[0m \u001b[0;34m\u001b[0m\u001b[0m\n\u001b[0;32m---> 33\u001b[0;31m     \u001b[0mfile_name\u001b[0m \u001b[0;34m=\u001b[0m \u001b[0mload_data_week_ahead\u001b[0m\u001b[0;34m(\u001b[0m\u001b[0murl\u001b[0m\u001b[0;34m)\u001b[0m\u001b[0;34m\u001b[0m\u001b[0;34m\u001b[0m\u001b[0m\n\u001b[0m\u001b[1;32m     34\u001b[0m     \u001b[0mfile_list\u001b[0m\u001b[0;34m.\u001b[0m\u001b[0mappend\u001b[0m\u001b[0;34m(\u001b[0m\u001b[0mfile_name\u001b[0m\u001b[0;34m)\u001b[0m\u001b[0;34m\u001b[0m\u001b[0;34m\u001b[0m\u001b[0m\n\u001b[1;32m     35\u001b[0m     \u001b[0mmost_resent_date\u001b[0m \u001b[0;34m=\u001b[0m \u001b[0mbegin_time\u001b[0m\u001b[0;34m\u001b[0m\u001b[0;34m\u001b[0m\u001b[0m\n",
      "\u001b[0;32m~/Documents/Data_Science/03_DSR/Final_Project/erste_repo/Residual_Load/load_data_entsoe_week.py\u001b[0m in \u001b[0;36mload_data_week_ahead\u001b[0;34m(url)\u001b[0m\n\u001b[1;32m     26\u001b[0m         \u001b[0msoup\u001b[0m \u001b[0;34m=\u001b[0m \u001b[0mbs\u001b[0m\u001b[0;34m(\u001b[0m\u001b[0mresponse\u001b[0m\u001b[0;34m.\u001b[0m\u001b[0mtext\u001b[0m\u001b[0;34m,\u001b[0m \u001b[0;34m'lxml-xml'\u001b[0m\u001b[0;34m)\u001b[0m\u001b[0;34m\u001b[0m\u001b[0;34m\u001b[0m\u001b[0m\n\u001b[1;32m     27\u001b[0m         \u001b[0mprint\u001b[0m\u001b[0;34m(\u001b[0m\u001b[0msoup\u001b[0m\u001b[0;34m.\u001b[0m\u001b[0mReason\u001b[0m\u001b[0;34m)\u001b[0m\u001b[0;34m\u001b[0m\u001b[0;34m\u001b[0m\u001b[0m\n\u001b[0;32m---> 28\u001b[0;31m         \u001b[0mprint\u001b[0m\u001b[0;34m(\u001b[0m\u001b[0mresponse\u001b[0m\u001b[0;34m.\u001b[0m\u001b[0mraise_for_status\u001b[0m\u001b[0;34m(\u001b[0m\u001b[0;34m)\u001b[0m\u001b[0;34m)\u001b[0m\u001b[0;34m\u001b[0m\u001b[0;34m\u001b[0m\u001b[0m\n\u001b[0m\u001b[1;32m     29\u001b[0m \u001b[0;34m\u001b[0m\u001b[0m\n\u001b[1;32m     30\u001b[0m     \u001b[0;31m# store xml-data in memory and create a BeautifulSoup object\u001b[0m\u001b[0;34m\u001b[0m\u001b[0;34m\u001b[0m\u001b[0;34m\u001b[0m\u001b[0m\n",
      "\u001b[0;32m~/opt/anaconda3/lib/python3.8/site-packages/requests/models.py\u001b[0m in \u001b[0;36mraise_for_status\u001b[0;34m(self)\u001b[0m\n\u001b[1;32m    939\u001b[0m \u001b[0;34m\u001b[0m\u001b[0m\n\u001b[1;32m    940\u001b[0m         \u001b[0;32mif\u001b[0m \u001b[0mhttp_error_msg\u001b[0m\u001b[0;34m:\u001b[0m\u001b[0;34m\u001b[0m\u001b[0;34m\u001b[0m\u001b[0m\n\u001b[0;32m--> 941\u001b[0;31m             \u001b[0;32mraise\u001b[0m \u001b[0mHTTPError\u001b[0m\u001b[0;34m(\u001b[0m\u001b[0mhttp_error_msg\u001b[0m\u001b[0;34m,\u001b[0m \u001b[0mresponse\u001b[0m\u001b[0;34m=\u001b[0m\u001b[0mself\u001b[0m\u001b[0;34m)\u001b[0m\u001b[0;34m\u001b[0m\u001b[0;34m\u001b[0m\u001b[0m\n\u001b[0m\u001b[1;32m    942\u001b[0m \u001b[0;34m\u001b[0m\u001b[0m\n\u001b[1;32m    943\u001b[0m     \u001b[0;32mdef\u001b[0m \u001b[0mclose\u001b[0m\u001b[0;34m(\u001b[0m\u001b[0mself\u001b[0m\u001b[0;34m)\u001b[0m\u001b[0;34m:\u001b[0m\u001b[0;34m\u001b[0m\u001b[0;34m\u001b[0m\u001b[0m\n",
      "\u001b[0;31mHTTPError\u001b[0m: 500 Server Error: Internal Server Error for url: https://transparency.entsoe.eu/api?securityToken=5e892e19-3f90-40f3-8ad6-4c87a3f34fa5&documentType=A65&processType=A31&outBiddingZone_Domain=10Y1001A1001A83F&periodStart=201810262300&periodEnd=201910262300"
     ]
    }
   ],
   "source": [
    "# Make sure to create a data folder in the directory, otherwise the files cannot be saved\n",
    "# Do not worry if you get an error at the end. This is because the data only goes back until 2014\n",
    "\n",
    "# Define parameters to download the data \n",
    "country = 'Germany'\n",
    "process_type = 'Week ahead'\n",
    "document_type = 'System total load'\n",
    "\n",
    "# The Entso-e API only allows to download 380 days per call. So create a loop to download all data \n",
    "# Time-format: Year, Month, Day, Hour, Minute\n",
    "\n",
    "num_of_years_to_download = 7\n",
    "most_resent_date = '202010252300'\n",
    "list_for_loop = [365]*num_of_years_to_download\n",
    "\n",
    "file_list = []\n",
    "\n",
    "for year in list_for_loop:\n",
    "    begin_time = datetime_to_str(str_to_datetime(most_resent_date) - datetime.timedelta(days=year))\n",
    "    end_time = most_resent_date\n",
    "\n",
    "    # generate url for API call\n",
    "\n",
    "    url = \"https://transparency.entsoe.eu/api?securityToken=\"+security_token\\\n",
    "          +'&documentType='+document_type_dict[document_type]\\\n",
    "          +'&processType='+process_type_dict[process_type]\\\n",
    "          +'&outBiddingZone_Domain='+zone_dict[country]\\\n",
    "          +'&periodStart='+begin_time\\\n",
    "          +'&periodEnd='+end_time\n",
    "    \n",
    "    # load and save data\n",
    "    \n",
    "    try:\n",
    "        file_name = load_data_week_ahead(url)\n",
    "        file_list.append(file_name)\n",
    "        most_resent_date = begin_time\n",
    "    except:\n",
    "        print('No more data available')"
   ]
  },
  {
   "cell_type": "markdown",
   "metadata": {},
   "source": [
    "Check the data was loaded properly and concatinate it to get the only one database"
   ]
  },
  {
   "cell_type": "code",
   "execution_count": null,
   "metadata": {},
   "outputs": [],
   "source": [
    "dataframes = [pd.read_csv('./data/'+i) for i in file_list]"
   ]
  },
  {
   "cell_type": "code",
   "execution_count": null,
   "metadata": {},
   "outputs": [],
   "source": [
    "for i in dataframes:\n",
    "    print(i.shape)"
   ]
  },
  {
   "cell_type": "code",
   "execution_count": null,
   "metadata": {},
   "outputs": [],
   "source": [
    "# concatenate all dataframes\n",
    "df = dataframes[1]\n",
    "for i in dataframes:\n",
    "    df = df.append(i)"
   ]
  },
  {
   "cell_type": "code",
   "execution_count": null,
   "metadata": {},
   "outputs": [],
   "source": [
    "# remove duplicates\n",
    "print(df.shape)\n",
    "df.drop_duplicates(inplace=True)\n",
    "print(df.shape)"
   ]
  },
  {
   "cell_type": "code",
   "execution_count": null,
   "metadata": {},
   "outputs": [],
   "source": [
    "df.sample(10)"
   ]
  },
  {
   "cell_type": "code",
   "execution_count": null,
   "metadata": {},
   "outputs": [],
   "source": [
    "import matplotlib.pyplot as plt\n",
    "plt.figure(figsize=(20,10))\n",
    "plt.plot(df.min_date, df.min_forecast_in_MAW)\n",
    "plt.xticks(rotation=90);"
   ]
  },
  {
   "cell_type": "code",
   "execution_count": null,
   "metadata": {},
   "outputs": [],
   "source": []
  }
 ],
 "metadata": {
  "kernelspec": {
   "display_name": "Python 3",
   "language": "python",
   "name": "python3"
  },
  "language_info": {
   "codemirror_mode": {
    "name": "ipython",
    "version": 3
   },
   "file_extension": ".py",
   "mimetype": "text/x-python",
   "name": "python",
   "nbconvert_exporter": "python",
   "pygments_lexer": "ipython3",
   "version": "3.8.3"
  }
 },
 "nbformat": 4,
 "nbformat_minor": 4
}
