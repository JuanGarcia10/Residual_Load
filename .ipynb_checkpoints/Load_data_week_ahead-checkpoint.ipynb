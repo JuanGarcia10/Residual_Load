{
 "cells": [
  {
   "cell_type": "markdown",
   "metadata": {},
   "source": [
    "# Use the Entso-e API to download the data programatically\n",
    "\n",
    "Download the \"week-ahead\" data for Germany for: \n",
    "- Minimum load forecast per day of week \n",
    "- Maximum load forecast per day of week\n",
    "\n",
    "All units are in MW (Megawatts). \n",
    "\n",
    "\"Week-ahead\" data provides the min and max forecast-values for each day of a given week. This means 14 values per week"
   ]
  },
  {
   "cell_type": "code",
   "execution_count": 1,
   "metadata": {},
   "outputs": [],
   "source": [
    "import requests\n",
    "import pandas as pd\n",
    "import datetime\n",
    "from bs4 import BeautifulSoup as bs\n",
    "\n",
    "# Import dictionaries, security_token and week_ahead loading script\n",
    "\n",
    "from Name_convention_dictionaries import DocumentTypeDict, ProcessTypeDict, AreaDict, PsrTypeDict\n",
    "from security_token import security_token\n",
    "from Load_data_entsoe_week import Load_data_week_ahead\n",
    "\n",
    "# Reverse dictionaries for easier understanding\n",
    "\n",
    "zone_dict = {v:k for k,v in AreaDict.items()}\n",
    "document_type_dict = {v:k for k,v in DocumentTypeDict.items()}\n",
    "process_type_dict = {v:k for k,v in ProcessTypeDict.items()}\n",
    "generation_type_dict = {v:k for k,v in PsrTypeDict.items()}"
   ]
  },
  {
   "cell_type": "code",
   "execution_count": 2,
   "metadata": {},
   "outputs": [],
   "source": [
    "# support functions\n",
    "def str_to_datetime(date_str):\n",
    "    return datetime.datetime.strptime(date_str, '%Y%m%d%H%M')\n",
    "\n",
    "def datetime_to_str(date):\n",
    "    return datetime.datetime.strftime(date, \"%Y%m%d%H%M\")"
   ]
  },
  {
   "cell_type": "markdown",
   "metadata": {},
   "source": [
    "## Specify region (country name or bidding zone according to Entso-e) and time horizon\n",
    "Check Name_convention_dictionaries.py if unsure how the country or bidding zone is named by Entso-e."
   ]
  },
  {
   "cell_type": "code",
   "execution_count": 3,
   "metadata": {},
   "outputs": [],
   "source": [
    "region = 'Germany'\n",
    "\n",
    "# The Entso-e API only allows to download 380 days per call. So create a loop to download all data \n",
    "# Time-format: Year, Month, Day, Hour, Minute\n",
    "\n",
    "num_of_years_to_download = 7\n",
    "most_recent_date = '202010252300'\n",
    "list_for_loop = [365]*num_of_years_to_download"
   ]
  },
  {
   "cell_type": "markdown",
   "metadata": {},
   "source": [
    "## Download Load Data"
   ]
  },
  {
   "cell_type": "code",
   "execution_count": 5,
   "metadata": {},
   "outputs": [],
   "source": [
    "# Define parameters to download the data \n",
    "process_type = 'Week ahead'\n",
    "document_type = 'System total load'"
   ]
  },
  {
   "cell_type": "code",
   "execution_count": 6,
   "metadata": {
    "scrolled": true
   },
   "outputs": [
    {
     "name": "stdout",
     "output_type": "stream",
     "text": [
      "You downloaded data for Zone \"10Y1001A1001A83F\" which is \"Germany\"\n",
      "--------------------------------------------------------------------------------------------------\n",
      "The downloaded time period is from 2019-10-20 22:00:00 until 2020-10-25 23:00:00 \n",
      "--------------------------------------------------------------------------------------------------\n",
      "The loaded document type is \"A65\" which corresponds to: \"System total load\"\n",
      "The loaded process type is \"A31\" which corresponds to: \"Week ahead\" , other examples: day Ahead, week ahead\n",
      "######################################################\n",
      "Sucessfully saved to:\n",
      "Week_ahead_Germany_2019-10-20_2200to2020-10-25_2300.csv\n",
      "######################################################\n",
      "\n",
      "\n",
      "\n",
      "You downloaded data for Zone \"10Y1001A1001A83F\" which is \"Germany\"\n",
      "--------------------------------------------------------------------------------------------------\n",
      "The downloaded time period is from 2018-10-21 22:00:00 until 2019-10-27 23:00:00 \n",
      "--------------------------------------------------------------------------------------------------\n",
      "The loaded document type is \"A65\" which corresponds to: \"System total load\"\n",
      "The loaded process type is \"A31\" which corresponds to: \"Week ahead\" , other examples: day Ahead, week ahead\n",
      "######################################################\n",
      "Sucessfully saved to:\n",
      "Week_ahead_Germany_2018-10-21_2200to2019-10-27_2300.csv\n",
      "######################################################\n",
      "\n",
      "\n",
      "\n",
      "You downloaded data for Zone \"10Y1001A1001A83F\" which is \"Germany\"\n",
      "--------------------------------------------------------------------------------------------------\n",
      "The downloaded time period is from 2017-10-22 22:00:00 until 2018-10-28 23:00:00 \n",
      "--------------------------------------------------------------------------------------------------\n",
      "The loaded document type is \"A65\" which corresponds to: \"System total load\"\n",
      "The loaded process type is \"A31\" which corresponds to: \"Week ahead\" , other examples: day Ahead, week ahead\n",
      "######################################################\n",
      "Sucessfully saved to:\n",
      "Week_ahead_Germany_2017-10-22_2200to2018-10-28_2300.csv\n",
      "######################################################\n",
      "\n",
      "\n",
      "\n",
      "You downloaded data for Zone \"10Y1001A1001A83F\" which is \"Germany\"\n",
      "--------------------------------------------------------------------------------------------------\n",
      "The downloaded time period is from 2016-10-23 22:00:00 until 2017-10-29 23:00:00 \n",
      "--------------------------------------------------------------------------------------------------\n",
      "The loaded document type is \"A65\" which corresponds to: \"System total load\"\n",
      "The loaded process type is \"A31\" which corresponds to: \"Week ahead\" , other examples: day Ahead, week ahead\n",
      "######################################################\n",
      "Sucessfully saved to:\n",
      "Week_ahead_Germany_2016-10-23_2200to2017-10-29_2300.csv\n",
      "######################################################\n",
      "\n",
      "\n",
      "\n",
      "You downloaded data for Zone \"10Y1001A1001A83F\" which is \"Germany\"\n",
      "--------------------------------------------------------------------------------------------------\n",
      "The downloaded time period is from 2015-10-25 23:00:00 until 2016-10-30 23:00:00 \n",
      "--------------------------------------------------------------------------------------------------\n",
      "The loaded document type is \"A65\" which corresponds to: \"System total load\"\n",
      "The loaded process type is \"A31\" which corresponds to: \"Week ahead\" , other examples: day Ahead, week ahead\n",
      "######################################################\n",
      "Sucessfully saved to:\n",
      "Week_ahead_Germany_2015-10-25_2300to2016-10-30_2300.csv\n",
      "######################################################\n",
      "\n",
      "\n",
      "\n",
      "You downloaded data for Zone \"10Y1001A1001A83F\" which is \"Germany\"\n",
      "--------------------------------------------------------------------------------------------------\n",
      "The downloaded time period is from 2015-01-18 23:00:00 until 2015-11-01 23:00:00 \n",
      "--------------------------------------------------------------------------------------------------\n",
      "The loaded document type is \"A65\" which corresponds to: \"System total load\"\n",
      "The loaded process type is \"A31\" which corresponds to: \"Week ahead\" , other examples: day Ahead, week ahead\n",
      "######################################################\n",
      "Sucessfully saved to:\n",
      "Week_ahead_Germany_2015-01-18_2300to2015-11-01_2300.csv\n",
      "######################################################\n",
      "\n",
      "\n",
      "\n",
      "<Reason>\n",
      "<code>999</code>\n",
      "<text>No matching data found for Data item Week-ahead Total Load Forecast [6.1.C] (10Y1001A1001A83F) and interval 2013-10-27T23:00:00.000Z/2014-10-27T23:00:00.000Z.</text>\n",
      "</Reason>\n",
      "\n",
      " No more data available\n"
     ]
    }
   ],
   "source": [
    "last_date_to_download = most_recent_date\n",
    "\n",
    "file_list = []\n",
    "\n",
    "for year in list_for_loop:\n",
    "    begin_time = datetime_to_str(str_to_datetime(last_date_to_download) - datetime.timedelta(days=year))\n",
    "    end_time = last_date_to_download\n",
    "\n",
    "    # generate url for API call\n",
    "\n",
    "    url = \"https://transparency.entsoe.eu/api?securityToken=\"+security_token\\\n",
    "          +'&documentType='+document_type_dict[document_type]\\\n",
    "          +'&processType='+process_type_dict[process_type]\\\n",
    "          +'&outBiddingZone_Domain='+zone_dict[region]\\\n",
    "          +'&periodStart='+begin_time\\\n",
    "          +'&periodEnd='+end_time\n",
    "    \n",
    "    # load and save data\n",
    "    \n",
    "    try:\n",
    "        file_name = Load_data_week_ahead(url)\n",
    "        file_list.append(file_name)\n",
    "        last_date_to_download = begin_time\n",
    "    except:\n",
    "        print('\\n No more data available')"
   ]
  },
  {
   "cell_type": "code",
   "execution_count": null,
   "metadata": {},
   "outputs": [],
   "source": []
  },
  {
   "cell_type": "code",
   "execution_count": null,
   "metadata": {},
   "outputs": [],
   "source": []
  },
  {
   "cell_type": "code",
   "execution_count": null,
   "metadata": {},
   "outputs": [],
   "source": []
  },
  {
   "cell_type": "code",
   "execution_count": null,
   "metadata": {},
   "outputs": [],
   "source": []
  },
  {
   "cell_type": "markdown",
   "metadata": {},
   "source": [
    "Check the data was loaded properly and concatinate it to get the only one database"
   ]
  },
  {
   "cell_type": "code",
   "execution_count": 4,
   "metadata": {},
   "outputs": [],
   "source": [
    "dataframes = [pd.read_csv('./data/'+i) for i in file_list]"
   ]
  },
  {
   "cell_type": "code",
   "execution_count": 5,
   "metadata": {},
   "outputs": [
    {
     "name": "stdout",
     "output_type": "stream",
     "text": [
      "(364, 4)\n",
      "(364, 4)\n",
      "(371, 4)\n",
      "(371, 4)\n",
      "(350, 4)\n",
      "(266, 4)\n"
     ]
    }
   ],
   "source": [
    "for i in dataframes:\n",
    "    print(i.shape)"
   ]
  },
  {
   "cell_type": "code",
   "execution_count": 6,
   "metadata": {},
   "outputs": [],
   "source": [
    "# concatenate all dataframes\n",
    "df = dataframes[0]\n",
    "for i in dataframes:\n",
    "    df = df.append(i)"
   ]
  },
  {
   "cell_type": "code",
   "execution_count": 7,
   "metadata": {},
   "outputs": [
    {
     "name": "stdout",
     "output_type": "stream",
     "text": [
      "(2450, 4)\n",
      "(2051, 4)\n"
     ]
    }
   ],
   "source": [
    "# remove duplicates\n",
    "print(df.shape)\n",
    "df.drop_duplicates(inplace=True)\n",
    "print(df.shape)"
   ]
  },
  {
   "cell_type": "code",
   "execution_count": 8,
   "metadata": {},
   "outputs": [
    {
     "data": {
      "text/html": [
       "<div>\n",
       "<style scoped>\n",
       "    .dataframe tbody tr th:only-of-type {\n",
       "        vertical-align: middle;\n",
       "    }\n",
       "\n",
       "    .dataframe tbody tr th {\n",
       "        vertical-align: top;\n",
       "    }\n",
       "\n",
       "    .dataframe thead th {\n",
       "        text-align: right;\n",
       "    }\n",
       "</style>\n",
       "<table border=\"1\" class=\"dataframe\">\n",
       "  <thead>\n",
       "    <tr style=\"text-align: right;\">\n",
       "      <th></th>\n",
       "      <th>min_date</th>\n",
       "      <th>max_date</th>\n",
       "      <th>min_forecast_in_MAW</th>\n",
       "      <th>max_forecast_in_MAW</th>\n",
       "    </tr>\n",
       "  </thead>\n",
       "  <tbody>\n",
       "    <tr>\n",
       "      <th>108</th>\n",
       "      <td>2017-02-09 23:00:00</td>\n",
       "      <td>2017-02-09 23:00:00</td>\n",
       "      <td>51880</td>\n",
       "      <td>73711</td>\n",
       "    </tr>\n",
       "    <tr>\n",
       "      <th>31</th>\n",
       "      <td>2016-11-24 23:00:00</td>\n",
       "      <td>2016-11-24 23:00:00</td>\n",
       "      <td>47396</td>\n",
       "      <td>72116</td>\n",
       "    </tr>\n",
       "    <tr>\n",
       "      <th>340</th>\n",
       "      <td>2020-10-02 22:00:00</td>\n",
       "      <td>2020-10-02 22:00:00</td>\n",
       "      <td>42209</td>\n",
       "      <td>65667</td>\n",
       "    </tr>\n",
       "    <tr>\n",
       "      <th>211</th>\n",
       "      <td>2016-06-07 22:00:00</td>\n",
       "      <td>2016-06-07 22:00:00</td>\n",
       "      <td>41128</td>\n",
       "      <td>66337</td>\n",
       "    </tr>\n",
       "    <tr>\n",
       "      <th>83</th>\n",
       "      <td>2019-01-13 23:00:00</td>\n",
       "      <td>2019-01-13 23:00:00</td>\n",
       "      <td>42158</td>\n",
       "      <td>56714</td>\n",
       "    </tr>\n",
       "    <tr>\n",
       "      <th>354</th>\n",
       "      <td>2020-10-16 22:00:00</td>\n",
       "      <td>2020-10-16 22:00:00</td>\n",
       "      <td>45497</td>\n",
       "      <td>68632</td>\n",
       "    </tr>\n",
       "    <tr>\n",
       "      <th>57</th>\n",
       "      <td>2017-12-19 23:00:00</td>\n",
       "      <td>2017-12-19 23:00:00</td>\n",
       "      <td>49916</td>\n",
       "      <td>72335</td>\n",
       "    </tr>\n",
       "    <tr>\n",
       "      <th>239</th>\n",
       "      <td>2017-06-20 22:00:00</td>\n",
       "      <td>2017-06-20 22:00:00</td>\n",
       "      <td>43493</td>\n",
       "      <td>68365</td>\n",
       "    </tr>\n",
       "    <tr>\n",
       "      <th>246</th>\n",
       "      <td>2017-06-27 22:00:00</td>\n",
       "      <td>2017-06-27 22:00:00</td>\n",
       "      <td>43374</td>\n",
       "      <td>68948</td>\n",
       "    </tr>\n",
       "    <tr>\n",
       "      <th>3</th>\n",
       "      <td>2018-10-25 22:00:00</td>\n",
       "      <td>2018-10-25 22:00:00</td>\n",
       "      <td>44550</td>\n",
       "      <td>68497</td>\n",
       "    </tr>\n",
       "  </tbody>\n",
       "</table>\n",
       "</div>"
      ],
      "text/plain": [
       "                min_date             max_date  min_forecast_in_MAW  \\\n",
       "108  2017-02-09 23:00:00  2017-02-09 23:00:00                51880   \n",
       "31   2016-11-24 23:00:00  2016-11-24 23:00:00                47396   \n",
       "340  2020-10-02 22:00:00  2020-10-02 22:00:00                42209   \n",
       "211  2016-06-07 22:00:00  2016-06-07 22:00:00                41128   \n",
       "83   2019-01-13 23:00:00  2019-01-13 23:00:00                42158   \n",
       "354  2020-10-16 22:00:00  2020-10-16 22:00:00                45497   \n",
       "57   2017-12-19 23:00:00  2017-12-19 23:00:00                49916   \n",
       "239  2017-06-20 22:00:00  2017-06-20 22:00:00                43493   \n",
       "246  2017-06-27 22:00:00  2017-06-27 22:00:00                43374   \n",
       "3    2018-10-25 22:00:00  2018-10-25 22:00:00                44550   \n",
       "\n",
       "     max_forecast_in_MAW  \n",
       "108                73711  \n",
       "31                 72116  \n",
       "340                65667  \n",
       "211                66337  \n",
       "83                 56714  \n",
       "354                68632  \n",
       "57                 72335  \n",
       "239                68365  \n",
       "246                68948  \n",
       "3                  68497  "
      ]
     },
     "execution_count": 8,
     "metadata": {},
     "output_type": "execute_result"
    }
   ],
   "source": [
    "df.sample(10)"
   ]
  },
  {
   "cell_type": "code",
   "execution_count": 9,
   "metadata": {},
   "outputs": [],
   "source": [
    "#import matplotlib.pyplot as plt\n",
    "#plt.figure(figsize=(20,10))\n",
    "#plt.plot(df.min_date, df.min_forecast_in_MAW)\n",
    "#plt.xticks(rotation=90);"
   ]
  },
  {
   "cell_type": "code",
   "execution_count": null,
   "metadata": {},
   "outputs": [],
   "source": []
  }
 ],
 "metadata": {
  "kernelspec": {
   "display_name": "Python 3",
   "language": "python",
   "name": "python3"
  },
  "language_info": {
   "codemirror_mode": {
    "name": "ipython",
    "version": 3
   },
   "file_extension": ".py",
   "mimetype": "text/x-python",
   "name": "python",
   "nbconvert_exporter": "python",
   "pygments_lexer": "ipython3",
   "version": "3.8.5"
  }
 },
 "nbformat": 4,
 "nbformat_minor": 4
}
