{
 "cells": [
  {
   "cell_type": "code",
   "execution_count": 1,
   "metadata": {},
   "outputs": [],
   "source": [
    "import requests\n",
    "import pandas as pd\n",
    "\n",
    "\n",
    "import datetime\n",
    "from bs4 import BeautifulSoup as bs"
   ]
  },
  {
   "cell_type": "code",
   "execution_count": 2,
   "metadata": {},
   "outputs": [],
   "source": [
    "from Name_convention_dictionaries import DocumentTypeDict\n",
    "from Name_convention_dictionaries import ProcessTypeDict\n",
    "from Name_convention_dictionaries import AreaDict\n",
    "from security_token import security_token"
   ]
  },
  {
   "cell_type": "code",
   "execution_count": 18,
   "metadata": {},
   "outputs": [],
   "source": [
    "# Bidding_Zone = \"10Y1001A1001A63L\" #\"DE-AT-LU BZ\",\n",
    "Bidding_Zone = \"10YDE-VE-------2\" #\"50Hertz CA, DE(50HzT) BZA\"\n",
    "# Bidding_Zone = \"10Y1001A1001A83F\"  #Germany\n",
    "\n",
    "begin_time = \"201512312300\" #2015year 12month 31day 23houor 00minute\n",
    "end_time = \"201612312300\"\n",
    "\n",
    "document_type = \"A65\"\n",
    "process_type = \"A01\""
   ]
  },
  {
   "cell_type": "code",
   "execution_count": 19,
   "metadata": {},
   "outputs": [],
   "source": [
    "url = \"https://transparency.entsoe.eu/api?securityToken=\"+security_token+\"&documentType=\"+document_type+\"&processType=\"+process_type+\"&outBiddingZone_Domain=\"+Bidding_Zone+\"&periodStart=\"+begin_time+\"&periodEnd=\"+end_time"
   ]
  },
  {
   "cell_type": "code",
   "execution_count": 20,
   "metadata": {},
   "outputs": [],
   "source": [
    "response = requests.get(url)"
   ]
  },
  {
   "cell_type": "code",
   "execution_count": 21,
   "metadata": {},
   "outputs": [],
   "source": [
    "if response.status_code != requests.codes.ok:\n",
    "    soup = bs(response.text,\"lxml-xml\")\n",
    "    print(soup.Reason)\n",
    "    print(response.raise_for_status())"
   ]
  },
  {
   "cell_type": "code",
   "execution_count": 1,
   "metadata": {},
   "outputs": [],
   "source": [
    "# response.url"
   ]
  },
  {
   "cell_type": "code",
   "execution_count": 23,
   "metadata": {},
   "outputs": [],
   "source": [
    "data = response.text\n",
    "soup = bs(data, \"lxml-xml\")"
   ]
  },
  {
   "cell_type": "code",
   "execution_count": 24,
   "metadata": {},
   "outputs": [],
   "source": [
    "#First print out what we have gotten"
   ]
  },
  {
   "cell_type": "code",
   "execution_count": 25,
   "metadata": {},
   "outputs": [],
   "source": [
    "def convert_to_datetime(date_str):\n",
    "    return datetime.datetime.strptime(date_str, '%Y-%m-%dT%H:%MZ')\n",
    "def convert_from_date(date):\n",
    "    return datetime.datetime.strftime(date, \"%Y-%m-%d_%H:%M\")"
   ]
  },
  {
   "cell_type": "code",
   "execution_count": 26,
   "metadata": {},
   "outputs": [
    {
     "name": "stdout",
     "output_type": "stream",
     "text": [
      "You downloaded data for Zone \"10YDE-VE-------2\" which is \"50Hertz CA, DE(50HzT) BZA\"\n",
      "BZA = Bidding Zone Aggregation\n",
      "CA = Control Area\n",
      "--------------------------------------------------------------------------------------------------\n",
      "The downloaded time period is from 2015-12-31 23:00:00 until 2016-12-31 23:00:00 \n",
      "--------------------------------------------------------------------------------------------------\n",
      "The loaded document type is \"A65\" which corresponds to: \"System total load\"\n",
      "The loaded process type is \"A01\" which corresponds to: \"Day ahead\" ,other examples: day Ahead, week ahead\n"
     ]
    }
   ],
   "source": [
    "Zone = soup.find(\"outBiddingZone_Domain.mRID\").text\n",
    "processType = soup.find(\"process.processType\").text\n",
    "DocType = soup.type.text\n",
    "\n",
    "\n",
    "\n",
    "start_datetime = convert_to_datetime(soup.find(\"time_Period.timeInterval\").start.text)\n",
    "end_datetime = convert_to_datetime(soup.find(\"time_Period.timeInterval\").end.text)\n",
    "\n",
    "if Zone in AreaDict:\n",
    "    print(f\"You downloaded data for Zone \\\"{Zone}\\\" which is \\\"{AreaDict[Zone]}\\\"\")\n",
    "    \n",
    "    #to understand it for now:\n",
    "    if \"BZA\" in AreaDict[Zone]:\n",
    "        print(\"BZA = Bidding Zone Aggregation\")\n",
    "    elif \"BZ\" in AreaDict[Zone]:\n",
    "        print(\"BZ = Bidding Zone\")\n",
    "    if \"CA\" in AreaDict[Zone]:\n",
    "        print(\"CA = Control Area\")\n",
    "    if \"MBA\" in AreaDict[Zone]:\n",
    "        print(\"MBA = Market Balance Area\")\n",
    "    \n",
    "else:\n",
    "    print(\"Warning! Zone/Area not found! The following code might not work.\")\n",
    "print(\"--------------------------------------------------------------------------------------------------\")\n",
    "print(f\"The downloaded time period is from {start_datetime} until {end_datetime} \"  )\n",
    "print(\"--------------------------------------------------------------------------------------------------\")\n",
    "    \n",
    "if DocType in DocumentTypeDict:\n",
    "    print(f\"The loaded document type is \\\"{DocType}\\\" which corresponds to: \\\"{DocumentTypeDict[DocType]}\\\"\")\n",
    "else:\n",
    "    print(\"Warning! The Document type is not recognized! The following code might not work.\")\n",
    "if soup.find(\"process.processType\").text in ProcessTypeDict:\n",
    "    print(f\"The loaded process type is \\\"{processType}\\\" which corresponds to: \\\"{ProcessTypeDict[processType]}\\\" ,other examples: day Ahead, week ahead\")\n",
    "else:\n",
    "    print(\"Warning! The Process type is not recognized! The following code might not work.\")"
   ]
  },
  {
   "cell_type": "code",
   "execution_count": 27,
   "metadata": {},
   "outputs": [],
   "source": [
    "# Now to analyse the time series:\n",
    "\n",
    "if soup.find_all(\"TimeSeries\")[0].curveType.text != \"A01\":\n",
    "    raise ValueError(f\"Curve type not implemented yet\") #TODO look at the different curve types and change code when necessary\n",
    "\n",
    "measure_unit = soup.find(\"quantity_Measure_Unit.name\").text\n",
    "TS = soup.find_all(\"TimeSeries\")[0]\n",
    "\n",
    "all_time_Series = soup.find_all(\"TimeSeries\")\n",
    "\n",
    "if len(all_time_Series) < 1:\n",
    "    raise ValueError(\"Unexpected amount of time series\")\n",
    "\n",
    "   \n",
    "date_col = []\n",
    "value_col = []\n",
    "\n",
    "for TS in all_time_Series:\n",
    "    time_resolution_str = TS.resolution.text\n",
    "    if time_resolution_str[-1]!=\"M\":\n",
    "        raise ValueError(\"Time Resolution is not in minutes\")  #TODO: implement other time intervals\n",
    "    time_resolution = int(time_resolution_str[2:-1])\n",
    "    start_datetime =  convert_to_datetime(TS.timeInterval.start.text)\n",
    "    end_datetime = convert_to_datetime(TS.timeInterval.end.text)\n",
    "    \n",
    "    for i in TS.find_all(\"Point\"):\n",
    "        position = int(i.position.text)\n",
    "        qty = int(i.quantity.text)\n",
    "        current_time = start_datetime + datetime.timedelta(seconds=time_resolution*(position-1))\n",
    "        date_col.append(current_time)\n",
    "        value_col.append(qty)\n",
    "    "
   ]
  },
  {
   "cell_type": "code",
   "execution_count": 28,
   "metadata": {},
   "outputs": [],
   "source": [
    "# all_time_Series[0].find_all(\"Point\")"
   ]
  },
  {
   "cell_type": "code",
   "execution_count": 29,
   "metadata": {},
   "outputs": [],
   "source": [
    "d = {'Date': date_col, measure_unit : value_col}\n",
    "df = pd.DataFrame(d)"
   ]
  },
  {
   "cell_type": "code",
   "execution_count": 30,
   "metadata": {},
   "outputs": [],
   "source": [
    "path = AreaDict[Zone]+\"__\"+document_type+\"__\"+process_type+\"from\"+ convert_from_date(start_datetime) +\"to\"+ convert_from_date(end_datetime) +\".csv\"\n",
    "df.to_csv(path,index=False)"
   ]
  },
  {
   "cell_type": "code",
   "execution_count": null,
   "metadata": {},
   "outputs": [],
   "source": []
  },
  {
   "cell_type": "code",
   "execution_count": null,
   "metadata": {},
   "outputs": [],
   "source": []
  },
  {
   "cell_type": "code",
   "execution_count": null,
   "metadata": {},
   "outputs": [],
   "source": []
  },
  {
   "cell_type": "code",
   "execution_count": null,
   "metadata": {},
   "outputs": [],
   "source": []
  },
  {
   "cell_type": "code",
   "execution_count": null,
   "metadata": {},
   "outputs": [],
   "source": []
  },
  {
   "cell_type": "code",
   "execution_count": 17,
   "metadata": {},
   "outputs": [],
   "source": [
    "# TS -> Point -> position"
   ]
  },
  {
   "cell_type": "code",
   "execution_count": null,
   "metadata": {},
   "outputs": [],
   "source": []
  },
  {
   "cell_type": "code",
   "execution_count": null,
   "metadata": {},
   "outputs": [],
   "source": []
  },
  {
   "cell_type": "code",
   "execution_count": null,
   "metadata": {},
   "outputs": [],
   "source": []
  },
  {
   "cell_type": "code",
   "execution_count": null,
   "metadata": {},
   "outputs": [],
   "source": []
  },
  {
   "cell_type": "code",
   "execution_count": null,
   "metadata": {},
   "outputs": [],
   "source": []
  },
  {
   "cell_type": "code",
   "execution_count": null,
   "metadata": {},
   "outputs": [],
   "source": []
  },
  {
   "cell_type": "code",
   "execution_count": null,
   "metadata": {},
   "outputs": [],
   "source": [
    "\n"
   ]
  },
  {
   "cell_type": "code",
   "execution_count": null,
   "metadata": {},
   "outputs": [],
   "source": []
  },
  {
   "cell_type": "code",
   "execution_count": null,
   "metadata": {},
   "outputs": [],
   "source": []
  }
 ],
 "metadata": {
  "kernelspec": {
   "display_name": "Python 3",
   "language": "python",
   "name": "python3"
  },
  "language_info": {
   "codemirror_mode": {
    "name": "ipython",
    "version": 3
   },
   "file_extension": ".py",
   "mimetype": "text/x-python",
   "name": "python",
   "nbconvert_exporter": "python",
   "pygments_lexer": "ipython3",
   "version": "3.7.9"
  }
 },
 "nbformat": 4,
 "nbformat_minor": 4
}
